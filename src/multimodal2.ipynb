{
 "cells": [
  {
   "cell_type": "code",
   "metadata": {},
   "outputs": [],
   "source": [
    "import tensorflow as tf\n",
    "import pandas as pd\n",
    "import numpy as np\n",
    "import pickle\n",
    "import time\n",
    "from sklearn.preprocessing import LabelEncoder\n",
    "from sklearn.model_selection import train_test_split\n",
    "from tensorflow.contrib import rnn\n",
    "from tensorflow.contrib.rnn import stack_bidirectional_dynamic_rnn\n",
    "\n",
    "\n",
    "\n",
    "tf.set_random_seed(1234)\n",
    "np.random.seed(1234)\n"
   ]
  },
  {
   "cell_type": "code",
   "metadata": {},
   "outputs": [],
   "source": [
    "# Reading Data file\n",
    "df = pd.read_pickle(\"speech_emotion_data.pkl\", compression='gzip')\n",
    "df.reset_index(inplace=True)\n",
    "df.drop('index', inplace=True, axis=1)\n",
    "        \n",
    "for index, row in df.iterrows():\n",
    "    df.set_value(index, 'lengths', row['Features'].shape[0])\n",
    "    \n",
    "le = LabelEncoder()\n",
    "le.fit(df['Label'].values)\n",
    "le.classes_\n",
    "\n",
    "#Preparing Data\n",
    "df_train, df_test = train_test_split(df, test_size=0.2, random_state=0)\n",
    "print('training samples:', df_train.shape[0])\n",
    "print('test samples:', df_test.shape[0])"
   ]
  },
  {
   "cell_type": "code",
   "metadata": {},
   "outputs": [],
   "source": [
    "# Bucket Iterator\n",
    "class BucketedDataIterator():\n",
    "    def __init__(self, df, num_buckets = 7):\n",
    "        df = df.sort_values('lengths').reset_index(drop=True)\n",
    "        self.size = len(df) / num_buckets\n",
    "        self.dfs = []\n",
    "        for bucket in range(num_buckets):\n",
    "            self.dfs.append(df.loc[bucket*self.size: (bucket+1)*self.size - 1])\n",
    "        self.num_buckets = num_buckets\n",
    "\n",
    "        # cursor[i] will be the cursor for the ith bucket\n",
    "        self.cursor = np.array([0] * num_buckets)\n",
    "        self.shuffle()\n",
    "\n",
    "        self.epochs = 0\n",
    "\n",
    "    def shuffle(self):\n",
    "        #sorts dataframe by sequence length, but keeps it random within the same length\n",
    "        for i in range(self.num_buckets):\n",
    "            self.dfs[i] = self.dfs[i].sample(frac=1).reset_index(drop=True)\n",
    "            self.cursor[i] = 0\n",
    "\n",
    "    def next_batch(self, n):\n",
    "        if np.any(self.cursor+n+1 > self.size):\n",
    "            self.epochs += 1\n",
    "            self.shuffle()\n",
    "\n",
    "        i = np.random.randint(0,self.num_buckets)\n",
    "\n",
    "        res = self.dfs[i].loc[self.cursor[i]:self.cursor[i]+n-1]\n",
    "        self.cursor[i] += n\n",
    "\n",
    "        # Pad sequences with 0s so they are all the same length\n",
    "        maxlen = int(max(res['lengths']))\n",
    "        \n",
    "        x = np.zeros([n, maxlen, 32], dtype=np.float)\n",
    "        for i, x_i in enumerate(x):\n",
    "            x_i[:res['lengths'].values[i]] = res['Features'].values[i]\n",
    "\n",
    "        return x, le.transform(res['Label'].values), res['lengths']\n"
   ]
  },
  {
   "cell_type": "code",
   "metadata": {},
   "outputs": [],
   "source": [
    "# hyperparameters\n",
    "init_epoch = 0\n",
    "hm_epochs = 10\n",
    "n_classes = 6\n",
    "batch_size = 1\n",
    "learning_rate = 0.01\n",
    "num_mfcc_features = 32\n",
    "rnn_size = 64\n",
    "dropout = 0.8\n",
    "# tr_acc, te_acc, tr_loss, te_loss = [], [], [], []\n",
    "# tr_acc = np.load('tr_acc.npy')\n",
    "# tr_loss = np.load('tr_loss.npy')\n",
    "# te_acc = np.load('te_acc.npy')\n",
    "# te_loss = np.load('te_loss.npy')"
   ]
  },
  {
   "cell_type": "code",
   "metadata": {},
   "outputs": [],
   "source": [
    "# resets tensorflow graph\n",
    "def reset_graph():\n",
    "    if 'sess' in globals() and sess:\n",
    "        sess.close()\n",
    "    tf.reset_default_graph()"
   ]
  },
  {
   "cell_type": "code",
   "metadata": {},
   "outputs": [],
   "source": [
    "# model graph\n",
    "def rnn_model():\n",
    "    \n",
    "    # resets the previous graph\n",
    "    reset_graph()\n",
    "\n",
    "    # defining placeholders\n",
    "    x = tf.placeholder(tf.float32,[batch_size, None, num_mfcc_features])\n",
    "    y = tf.placeholder(tf.int32, [batch_size])\n",
    "    seq_length = tf.placeholder(tf.int32, [batch_size])\n",
    "    keep_prob = tf.placeholder(tf.float32)\n",
    "    phase = tf.placeholder(tf.bool)\n",
    "    \n",
    "    scale = tf.Variable(tf.ones([128]))\n",
    "    beta = tf.Variable(tf.zeros([128]))\n",
    "    pop_mean = tf.Variable(tf.zeros([128]), trainable=False)\n",
    "    pop_var = tf.Variable(tf.ones([128]), trainable=False)\n",
    "    epsilon = 1e-3\n",
    "    decay = 0.999\n",
    "    attn_length = 64\n",
    "    num_layers = 2\n",
    "  \n",
    "    layer = {'weight':tf.Variable(tf.random_normal([rnn_size*2, n_classes])),\n",
    "            'bias':tf.Variable(tf.random_normal([n_classes]))}\n",
    "    \n",
    "    '''\n",
    "    fw_cell = rnn_cell.BasicLSTMCell(rnn_size, state_is_tuple=True)\n",
    "    bw_cell = rnn_cell.BasicLSTMCell(rnn_size, state_is_tuple=True)\n",
    "    print(fw_cell.output_size, bw_cell.output_size)\n",
    "\n",
    "    fw_cell = tf.contrib.rnn.AttentionCellWrapper(fw_cell, attn_length=attn_length, state_is_tuple=True)\n",
    "    bw_cell = tf.contrib.rnn.AttentionCellWrapper(bw_cell, attn_length=attn_length, state_is_tuple=True)\n",
    "    print(fw_cell.output_size, bw_cell.output_size)\n",
    "    \n",
    "    stacked_rnn_fw, stacked_rnn_bw = [], []\n",
    "   \n",
    "    for _ in range(num_layers):\n",
    "        stacked_rnn_fw.append(fw_cell)\n",
    "        stacked_rnn_bw.append(bw_cell)\n",
    "        \n",
    "    rnn_fw_cell = tf.nn.rnn_cell.MultiRNNCell(cells=stacked_rnn_fw, state_is_tuple=True)\n",
    "    rnn_bw_cell = tf.nn.rnn_cell.MultiRNNCell(cells=stacked_rnn_bw, state_is_tuple=True)\n",
    "    print(rnn_fw_cell.output_size, rnn_bw_cell.output_size)\n",
    "\n",
    "    rnn_outputs, final_state_fw, final_state_bw = stack_bidirectional_dynamic_rnn([rnn_fw_cell], [rnn_bw_cell], x, dtype=tf.float32, sequence_length=seq_length)\n",
    "\n",
    "    ''' \n",
    "    \n",
    "    # multiple RNN layers \n",
    "    num_layers = 3\n",
    "    stacked_rnn_fw, stacked_rnn_bw = [], []\n",
    "    for _ in range(num_layers):\n",
    "        stacked_rnn_fw.append(tf.contrib.rnn.AttentionCellWrapper(rnn.BasicLSTMCell(rnn_size, state_is_tuple=True), attn_length=attn_length, state_is_tuple=True))\n",
    "        stacked_rnn_bw.append(tf.contrib.rnn.AttentionCellWrapper(rnn.BasicLSTMCell(rnn_size, state_is_tuple=True), attn_length=attn_length, state_is_tuple=True))\n",
    "    cell_fw = rnn.MultiRNNCell(cells=stacked_rnn_fw, state_is_tuple=True)\n",
    "    cell_bw = rnn.MultiRNNCell(cells=stacked_rnn_bw, state_is_tuple=True)\n",
    "    rnn_outputs, final_state_fw, final_state_bw = stack_bidirectional_dynamic_rnn([cell_fw], [cell_bw], x, dtype=tf.float32, sequence_length=seq_length)\n",
    "    print(rnn_outputs.shape)\n",
    "    \n",
    "    '''\n",
    "    # single RNN layer\n",
    "    lstm_fw_cell = rnn_cell.BasicLSTMCell(rnn_size)\n",
    "    lstm_bw_cell = rnn_cell.BasicLSTMCell(rnn_size)\n",
    "    rnn_outputs, final_state_fw, final_state_bw = stack_bidirectional_dynamic_rnn([lstm_fw_cell], [lstm_bw_cell], x, dtype=tf.float32, sequence_length=seq_length)\n",
    "    ''' \n",
    "  \n",
    "    # batchnorm\n",
    "    if phase==True:\n",
    "        batch_mean, batch_var = tf.nn.moments(rnn_outputs,[0])\n",
    "        train_mean = tf.assign(pop_mean, pop_mean * decay + batch_mean * (1 - decay))\n",
    "        train_var = tf.assign(pop_var, pop_var * decay + batch_var * (1 - decay))\n",
    "        with tf.control_dependencies([train_mean, train_var]):\n",
    "            rnn_outputs = tf.nn.batch_normalization(rnn_outputs, batch_mean, batch_var, beta, scale, epsilon)\n",
    "    else:\n",
    "        rnn_outputs = tf.nn.batch_normalization(rnn_outputs, pop_mean, pop_var, beta, scale, epsilon)\n",
    "\n",
    "    rnn_outputs = tf.nn.relu(rnn_outputs)\n",
    "    rnn_outputs = tf.nn.dropout(rnn_outputs, keep_prob)\n",
    "    \n",
    "    # stacking the outputs of all time frames\n",
    "    last_rnn_output = tf.gather_nd(rnn_outputs, tf.stack([tf.range(batch_size), seq_length-1], axis=1))\n",
    "    \n",
    "    # fully-connected layer\n",
    "    # fc = tf.add(tf.matmul(last_rnn_output, layer['weight1']), layer['bias1'])\n",
    "    output = tf.add(tf.matmul(last_rnn_output, layer['weight']), layer['bias'])\n",
    "    \n",
    "    # predicting labels\n",
    "    preds = tf.nn.softmax(output)\n",
    "    \n",
    "    # calculating accuracy\n",
    "    correct = tf.equal(tf.argmax(preds,1), tf.argmax(tf.one_hot(y,6),1))\n",
    "    accuracy = tf.reduce_mean(tf.cast(correct, tf.float32))\n",
    "\n",
    "    # calculating loss\n",
    "    cost = tf.reduce_mean(tf.nn.softmax_cross_entropy_with_logits_v2(logits=output, labels=tf.one_hot(y,6)))\n",
    "\n",
    "    # adding optimizer\n",
    "    optimizer = tf.train.AdamOptimizer(learning_rate).minimize(cost)\n",
    "\n",
    "    return {'x': x, 'seqlen': seq_length, 'y': y, 'loss': cost, 'preds': preds, 'accuracy': accuracy, 'dropout': keep_prob, 'phase': phase, 'optimizer': optimizer}\n"
   ]
  },
  {
   "cell_type": "code",
   "metadata": {},
   "outputs": [],
   "source": [
    "def train_model(graph):\n",
    "\n",
    "    with tf.Session() as sess:\n",
    "                             \n",
    "        sess.run(tf.global_variables_initializer())\n",
    "        \n",
    "        saver = tf.train.Saver()\n",
    "#         saver = tf.train.import_meta_graph('tmp/weights_epoch_{0}.ckpt.meta'.format(init_epoch))\n",
    "#         saver.restore(sess, 'tmp/weights_epoch_{0}.ckpt'.format(init_epoch))\n",
    "        \n",
    "#         tr_acc = np.load('tmp/train_accuracy.npy')\n",
    "#         tr_loss = np.load('tmp/train_loss.npy')\n",
    "#         te_acc = np.load('tmp/test_accuracy.npy')\n",
    "#         te_loss = np.load('tmp/test_loss.npy')\n",
    "        \n",
    "        tr_acc, te_acc, tr_loss, te_loss = [], [], [], []\n",
    "\n",
    "        tr = BucketedDataIterator(df_train, 1)\n",
    "        te = BucketedDataIterator(df_test, 1)\n",
    "\n",
    "        step, accuracy, loss = 0, 0, 0\n",
    "        current_epoch = 0\n",
    "        ep = False\n",
    "        while current_epoch < hm_epochs:\n",
    "            # for timing the epoch\n",
    "            if ep==False:\n",
    "                start_time = time.time()\n",
    "                ep = True\n",
    "            step += 1\n",
    "            mini_batch = tr.next_batch(batch_size)\n",
    "            _, accuracy_, loss_ = sess.run([graph['optimizer'], graph['accuracy'], graph['loss']], feed_dict = {graph['x']: mini_batch[0], \n",
    "                                      graph['y']: mini_batch[1],graph['seqlen']: mini_batch[2], graph['dropout']: dropout, graph['phase']: 1})\n",
    "            accuracy += accuracy_\n",
    "            loss += loss_ \n",
    "            \n",
    "            if tr.epochs > current_epoch:\n",
    "                ep = False\n",
    "                current_epoch += 1\n",
    "                tr_acc = np.append(tr_acc, accuracy/step)\n",
    "                tr_loss = np.append(tr_loss, loss/step)\n",
    "                step, accuracy, loss = 0, 0, 0\n",
    "\n",
    "                # eval test set\n",
    "                te_epoch = te.epochs\n",
    "                while te.epochs == te_epoch:\n",
    "                    step += 1\n",
    "                    mini_batch = te.next_batch(batch_size)\n",
    "                    accuracy_, loss_ = sess.run([graph['accuracy'], graph['loss']], feed_dict = {graph['x']: mini_batch[0], \n",
    "                                                 graph['y']: mini_batch[1], graph['seqlen']: mini_batch[2], graph['dropout']: 1, graph['phase']: 0})\n",
    "                    accuracy += accuracy_\n",
    "                    loss += loss_\n",
    "\n",
    "                te_acc = np.append(te_acc, accuracy/step)\n",
    "                te_loss = np.append(te_loss, loss/step)\n",
    "                step, accuracy, loss = 0, 0, 0\n",
    "                \n",
    "                if current_epoch%20==0:\n",
    "                    saver.save(sess, '\\weights_epoch_{0}.ckpt'.format(current_epoch+init_epoch))\n",
    "                    np.save('\\train_accuracy.npy', tr_acc)\n",
    "                    np.save('\\train_loss.npy', tr_loss)\n",
    "                    np.save('\\test_accuracy.npy', te_acc)\n",
    "                    np.save('\\test_loss.npy', te_loss)\n",
    "                    print('Weights saved.')\n",
    "               \n",
    "                end_time = time.time()\n",
    "                print(\"Epoch : %d/%d - time: %.2fs\\nloss: %0.4f - acc: %.4f - val_loss: %.4f - val_acc: %.4f\\n\" % (current_epoch+init_epoch, hm_epochs+init_epoch, end_time-start_time, tr_loss[-1], tr_acc[-1], te_loss[-1], te_acc[-1]))\n",
    "\n",
    "    return tr_acc, tr_loss, te_acc, te_loss"
   ]
  },
  {
   "cell_type": "code",
   "execution_count": null,
   "metadata": {
    "scrolled": true
   },
   "outputs": [],
   "source": [
    "try:\n",
    "    g = rnn_model()\n",
    "    train_model(g)\n",
    "except KeyboardInterrupt:\n",
    "    print(\"Training Terminated.\")\n"
   ]
  },
  {
   "cell_type": "code",
   "execution_count": null,
   "metadata": {},
   "outputs": [],
   "source": []
  },
  {
   "cell_type": "code",
   "execution_count": null,
   "metadata": {},
   "outputs": [],
   "source": []
  },
  {
   "cell_type": "code",
   "metadata": {},
   "outputs": [
    {
     "name": "stderr",
     "output_type": "stream",
     "text": [
      "Using TensorFlow backend.\n"
     ]
    }
   ],
   "source": [
    "import pandas as pd\n",
    "import numpy as np\n",
    "import gzip\n",
    "import pickle\n",
    "import matplotlib.pyplot as plt\n",
    "import seaborn as sns\n",
    "from sklearn.preprocessing import LabelEncoder, normalize\n",
    "from keras.preprocessing.sequence import pad_sequences\n",
    "from sklearn.model_selection import train_test_split\n",
    "from keras.models import Sequential\n",
    "from keras.layers import LSTM, Dense, BatchNormalization, Bidirectional, Dropout\n",
    "from keras.optimizers import Adam\n",
    "import tensorflow as tf\n",
    "%matplotlib inline\n",
    "\n",
    "tf.set_random_seed(1234)\n",
    "np.random.seed(1234)"
   ]
  },
  {
   "cell_type": "code",
   "execution_count": null,
   "metadata": {},
   "outputs": [],
   "source": [
    "with gzip.open(\"mfcc_features.pkl\", 'rb') as ifp:\n",
    "    df = pickle.load(ifp)"
   ]
  },
  {
   "cell_type": "code",
   "metadata": {},
   "outputs": [],
   "source": [
    "with gzip.open(\"speech_emotion_data.pkl\", 'rb') as ifp:\n",
    "    df = pickle.load(ifp)"
   ]
  },
  {
   "cell_type": "code",
   "metadata": {
    "colab": {
     "autoexec": {
      "startup": false,
      "wait_interval": 0
     },
     "base_uri": "https://localhost:8080/",
     "height": 612
    },
    "colab_type": "code",
    "executionInfo": {
     "elapsed": 2532,
     "status": "ok",
     "timestamp": 1524561601963,
     "user": {
      "displayName": "Aman Agarwal",
      "photoUrl": "//lh6.googleusercontent.com/-LJqnm0_XO_I/AAAAAAAAAAI/AAAAAAAAAVs/8jwhPwCDbUU/s50-c-k-no/photo.jpg",
      "userId": "104684234709192293357"
     },
     "user_tz": -330
    },
    "id": "DbbD2CMx0OTL",
    "outputId": "f42644ee-ed41-40ee-b36b-362fb530baab",
    "scrolled": false
   },
   "outputs": [
    {
     "name": "stdout",
     "output_type": "stream",
     "text": [
      "                                            Features                 Name Label  lengths\n",
      "0  [[16.83934326211564, 7.122831080454019, -15.75...  Ses01M_impro01_F022   ang     1000\n",
      "1  [[14.494079382110739, 7.730831222603203, -3.82...  Ses01M_impro01_M003   neu      246\n",
      "2  [[12.031490986053488, -0.37954713964313613, -8...  Ses01M_impro01_M017   fru      272\n",
      "3  [[13.346119672913716, -2.352727728420929, -3.3...  Ses01M_impro01_M016   fru      209\n",
      "4  [[15.0055667757475, -24.48304889999013, -20.88...  Ses01M_impro01_M002   fru      309\n",
      "\n",
      "Total Data size: 7379\n",
      "Male Samples: 3911\n",
      "Female Samples: 3468\n",
      "\n",
      "Emotion-wise samples\n",
      "ang: 1103\n",
      "neu: 1707\n",
      "fru: 1849\n",
      "sad: 1084\n",
      "exc: 1041\n",
      "hap: 595\n"
     ]
    },
    {
     "data": {
      "image/png": "[encoded data removed]",
      "text/plain": [
       "<Figure size 432x288 with 1 Axes>"
      ]
     },
     "metadata": {},
     "output_type": "display_data"
    },
    {
     "data": {
      "text/plain": [
       "array(['ang', 'exc', 'fru', 'hap', 'neu', 'sad'], dtype=object)"
      ]
     },
     "metadata": {},
     "output_type": "execute_result"
    }
   ],
   "source": [
    "pd.set_option('display.width', 100)\n",
    "# print(df.head())\n",
    "\n",
    "df.reset_index(inplace=True)\n",
    "df.drop('index', inplace=True, axis=1)\n",
    "\n",
    "male = 0\n",
    "female = 0\n",
    "        \n",
    "for index, row in df.iterrows():\n",
    "    if row['Name'][-4] == 'F':\n",
    "        female +=1\n",
    "    else:\n",
    "        male +=1\n",
    "    df.set_value(index, 'lengths', row['Features'].shape[0])\n",
    "        \n",
    "print(df.head())\n",
    "        \n",
    "print('\\nTotal Data size:', df.shape[0])\n",
    "print('Male Samples:', male)\n",
    "print('Female Samples:', female)\n",
    "print('\\nEmotion-wise samples')\n",
    "\n",
    "emo_name = []\n",
    "emo_number = []\n",
    "for i in df['Label'].unique():\n",
    "    print('%s: %d' %(i, np.sum(df['Label'] == i)))\n",
    "    emo_name.append(i)\n",
    "    emo_number.append(np.sum(df['Label'] == i))\n",
    "plt.pie(emo_number, labels=emo_name, colors=['gold', 'yellowgreen', 'lightcoral', 'lightskyblue', 'red', 'olive'],\n",
    "        autopct='%1.1f%%', shadow=True, startangle=140)\n",
    "plt.axis('equal')\n",
    "plt.show()\n",
    "    \n",
    "le = LabelEncoder()\n",
    "le.fit(df['Label'].values)\n",
    "le.classes_"
   ]
  },
  {
   "cell_type": "code",
   "metadata": {
    "colab": {
     "autoexec": {
      "startup": false,
      "wait_interval": 0
     },
     "base_uri": "https://localhost:8080/",
     "height": 68
    },
    "colab_type": "code",
    "executionInfo": {
     "elapsed": 12323,
     "status": "ok",
     "timestamp": 1524561614445,
     "user": {
      "displayName": "Aman Agarwal",
      "photoUrl": "//lh6.googleusercontent.com/-LJqnm0_XO_I/AAAAAAAAAAI/AAAAAAAAAVs/8jwhPwCDbUU/s50-c-k-no/photo.jpg",
      "userId": "104684234709192293357"
     },
     "user_tz": -330
    },
    "id": "IdCkn0qdc24b",
    "outputId": "1635b714-3e15-4dd4-9edb-b398dfc30e1e"
   },
   "outputs": [
    {
     "name": "stdout",
     "output_type": "stream",
     "text": [
      "training samples: 5903\n",
      "validation samples: 1107\n",
      "test samples: 369\n"
     ]
    }
   ],
   "source": [
    "df_train, df_test = train_test_split(df, test_size=0.2, random_state=0)\n",
    "df_test, df_val = train_test_split(df_test, test_size=0.75, random_state=0)\n",
    "print('training samples:', df_train.shape[0])\n",
    "print('validation samples:', df_val.shape[0])\n",
    "print('test samples:', df_test.shape[0])"
   ]
  },
  {
   "cell_type": "code",
   "metadata": {
    "colab": {
     "autoexec": {
      "startup": false,
      "wait_interval": 0
     }
    },
    "colab_type": "code",
    "id": "3N6d-tpu0RkP"
   },
   "outputs": [],
   "source": [
    "class BucketedDataIterator():\n",
    "    def __init__(self, df, num_buckets = 7):\n",
    "        df = df.sort_values('lengths').reset_index(drop=True)\n",
    "        self.size = len(df) / num_buckets\n",
    "        self.dfs = []\n",
    "        for bucket in range(num_buckets):\n",
    "            self.dfs.append(df.loc[bucket*self.size: (bucket+1)*self.size - 1])\n",
    "        self.num_buckets = num_buckets\n",
    "\n",
    "        # cursor[i] will be the cursor for the ith bucket\n",
    "        self.cursor = np.array([0] * num_buckets)\n",
    "        self.shuffle()\n",
    "\n",
    "        self.epochs = 0\n",
    "\n",
    "    def shuffle(self):\n",
    "        #sorts dataframe by sequence length, but keeps it random within the same length\n",
    "        for i in range(self.num_buckets):\n",
    "            self.dfs[i] = self.dfs[i].sample(frac=1).reset_index(drop=True)\n",
    "            self.cursor[i] = 0\n",
    "\n",
    "    def next_batch(self, n):\n",
    "        if np.any(self.cursor+n+1 > self.size):\n",
    "            self.epochs += 1\n",
    "            self.shuffle()\n",
    "\n",
    "        i = np.random.randint(0,self.num_buckets)\n",
    "\n",
    "        res = self.dfs[i].loc[self.cursor[i]:self.cursor[i]+n-1]\n",
    "        self.cursor[i] += n\n",
    "\n",
    "        # Pad sequences with 0s so they are all the same length\n",
    "        maxlen = int(max(res['lengths']))\n",
    "        \n",
    "        x = np.zeros([n, maxlen, 32], dtype=np.float)\n",
    "        for i, x_i in enumerate(x):\n",
    "            x_i[:res['lengths'].values[i]] = res['Features'].values[i]\n",
    "\n",
    "        return x, le.transform(res['Label'].values), res['lengths']"
   ]
  },
  {
   "cell_type": "code",
   "metadata": {},
   "outputs": [],
   "source": [
    "class BucketedDataIterator():\n",
    "    def __init__(self, df, num_buckets = 7):\n",
    "        df = df.sort_values('lengths').reset_index(drop=True)\n",
    "        self.size = len(df) / num_buckets\n",
    "        self.dfs = []\n",
    "        for bucket in range(num_buckets):\n",
    "            self.dfs.append(df.loc[bucket*self.size: (bucket+1)*self.size - 1])\n",
    "        self.num_buckets = num_buckets\n",
    "\n",
    "        # cursor[i] will be the cursor for the ith bucket\n",
    "        self.cursor = np.array([0] * num_buckets)\n",
    "        self.shuffle()\n",
    "\n",
    "        self.epochs = 0\n",
    "\n",
    "    def shuffle(self):\n",
    "        #sorts dataframe by sequence length, but keeps it random within the same length\n",
    "        for i in range(self.num_buckets):\n",
    "            self.dfs[i] = self.dfs[i].sample(frac=1).reset_index(drop=True)\n",
    "            self.cursor[i] = 0\n",
    "\n",
    "    def next_batch(self, n):\n",
    "        if np.any(self.cursor+n+1 > self.size):\n",
    "            self.epochs += 1\n",
    "            self.shuffle()\n",
    "\n",
    "        i = np.random.randint(0,self.num_buckets)\n",
    "\n",
    "        res = self.dfs[i].loc[self.cursor[i]:self.cursor[i]+n-1]\n",
    "        self.cursor[i] += n\n",
    "\n",
    "        # Pad sequences with 0s so they are all the same length\n",
    "        maxlen = int(max(res['lengths']))\n",
    "        \n",
    "        x = np.zeros([n, maxlen, 32], dtype=np.float)\n",
    "        for i, x_i in enumerate(x):\n",
    "            x_i[:res['lengths'].values[i]] = res['Features'].values[i]\n",
    "\n",
    "        return x, le.transform(res['Label'].values), res['lengths']"
   ]
  },
  {
   "cell_type": "code",
   "metadata": {
    "colab": {
     "autoexec": {
      "startup": false,
      "wait_interval": 0
     },
     "base_uri": "https://localhost:8080/",
     "height": 170
    },
    "colab_type": "code",
    "executionInfo": {
     "elapsed": 935,
     "status": "ok",
     "timestamp": 1524561616843,
     "user": {
      "displayName": "Aman Agarwal",
      "photoUrl": "//lh6.googleusercontent.com/-LJqnm0_XO_I/AAAAAAAAAAI/AAAAAAAAAVs/8jwhPwCDbUU/s50-c-k-no/photo.jpg",
      "userId": "104684234709192293357"
     },
     "user_tz": -330
    },
    "id": "kWRtTzhv0R78",
    "outputId": "7127dac3-7203-4cb6-de30-5d430fcb70a7"
   },
   "outputs": [
    {
     "name": "stdout",
     "output_type": "stream",
     "text": [
      "X shape: (128, 191, 32)\n",
      "Target: [5 1 2 1 2]\n",
      "Sequence length:\n",
      " 0    124\n",
      "1    149\n",
      "2    177\n",
      "3    167\n",
      "4    169\n",
      "Name: lengths, dtype: int64\n"
     ]
    }
   ],
   "source": [
    "tr = BucketedDataIterator(df_train)\n",
    "mini_batch = tr.next_batch(128)\n",
    "X = mini_batch[0]\n",
    "y = mini_batch[1]\n",
    "seqlen = mini_batch[2]\n",
    "print('X shape:', X.shape)\n",
    "print('Target:', y[:5])\n",
    "print('Sequence length:\\n', seqlen[:5])"
   ]
  },
  {
   "cell_type": "code",
   "execution_count": null,
   "metadata": {
    "colab": {
     "autoexec": {
      "startup": false,
      "wait_interval": 0
     },
     "base_uri": "https://localhost:8080/",
     "height": 578
    },
    "colab_type": "code",
    "executionInfo": {
     "elapsed": 1794213,
     "status": "ok",
     "timestamp": 1524566994153,
     "user": {
      "displayName": "Aman Agarwal",
      "photoUrl": "//lh6.googleusercontent.com/-LJqnm0_XO_I/AAAAAAAAAAI/AAAAAAAAAVs/8jwhPwCDbUU/s50-c-k-no/photo.jpg",
      "userId": "104684234709192293357"
     },
     "user_tz": -330
    },
    "id": "JPkHbAO20VrS",
    "outputId": "270094ec-36a0-4e94-abf2-cbe18785fee3"
   },
   "outputs": [],
   "source": [
    "try:\n",
    "    g = rnn_model()\n",
    "    train_model(g)\n",
    "except KeyboardInterrupt:\n",
    "    print(\"Training Terminated.\")"
   ]
  },
  {
   "cell_type": "code",
   "metadata": {
    "colab": {
     "autoexec": {
      "startup": false,
      "wait_interval": 0
     },
     "base_uri": "https://localhost:8080/",
     "height": 571
    },
    "colab_type": "code",
    "executionInfo": {
     "elapsed": 2241,
     "status": "ok",
     "timestamp": 1524567221054,
     "user": {
      "displayName": "Aman Agarwal",
      "photoUrl": "//lh6.googleusercontent.com/-LJqnm0_XO_I/AAAAAAAAAAI/AAAAAAAAAVs/8jwhPwCDbUU/s50-c-k-no/photo.jpg",
      "userId": "104684234709192293357"
     },
     "user_tz": -330
    },
    "id": "rPPOLfo6V8Ya",
    "outputId": "dc4e38cf-c4aa-4713-b474-efecd7594b67"
   },
   "outputs": [
    {
     "data": {
      "image/png": "[encoded data removed]",
      "text/plain": [
       "<matplotlib.figure.Figure at 0x7fbd40d93da0>"
      ]
     },
     "metadata": {
      "tags": []
     },
     "output_type": "display_data"
    },
    {
     "data": {
      "image/png": "[encoded data removed]",
      "text/plain": [
       "<matplotlib.figure.Figure at 0x7fbd40a63a20>"
      ]
     },
     "metadata": {
      "tags": []
     },
     "output_type": "display_data"
    }
   ],
   "source": [
    "tr_ac = np.load('temp_32_att_fc/train_accuracy.npy')\n",
    "tr_lo = np.load('temp_32_att_fc/train_loss.npy')\n",
    "te_ac = np.load('temp_32_att_fc/test_accuracy.npy')\n",
    "te_lo = np.load('temp_32_att_fc/test_loss.npy')\n",
    "\n",
    "# summarize history for accuracy\n",
    "plt.plot(np.arange(len(tr_ac)), tr_ac)\n",
    "plt.plot(np.arange(len(te_ac)), te_ac)\n",
    "plt.title('model accuracy')\n",
    "plt.ylabel('accuracy')\n",
    "plt.xlabel('epoch')\n",
    "plt.legend(['train', 'test'], loc='upper left')\n",
    "plt.show()\n",
    "\n",
    "# summarize history for loss\n",
    "plt.plot(np.arange(len(tr_lo)), tr_lo)\n",
    "plt.plot(np.arange(len(te_lo)), te_lo)\n",
    "plt.title('model loss')\n",
    "plt.ylabel('loss')\n",
    "plt.xlabel('epoch')\n",
    "plt.legend(['train', 'test'], loc='upper left')\n",
    "plt.show()"
   ]
  },
  {
   "cell_type": "code",
   "execution_count": null,
   "metadata": {},
   "outputs": [],
   "source": []
  },
  {
   "cell_type": "code",
   "execution_count": null,
   "metadata": {},
   "outputs": [],
   "source": []
  }
 ],
 "metadata": {
  "kernelspec": {
   "display_name": "Python 3",
   "language": "python",
   "name": "python3"
  },
  "language_info": {
   "codemirror_mode": {
    "name": "ipython",
    "version": 3
   },
   "file_extension": ".py",
   "mimetype": "text/x-python",
   "name": "python",
   "nbconvert_exporter": "python",
   "pygments_lexer": "ipython3",
   "version": "3.6.5"
  }
 },
 "nbformat": 4,
 "nbformat_minor": 2
}
